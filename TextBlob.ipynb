{
 "cells": [
  {
   "cell_type": "markdown",
   "metadata": {},
   "source": [
    "# Homework 2\n",
    "#### Gabor Kovacs | CAP 6640 | 2/21/2021"
   ]
  },
  {
   "cell_type": "code",
   "execution_count": 1,
   "metadata": {},
   "outputs": [],
   "source": [
    "from textblob import TextBlob\n",
    "from textblob import Word"
   ]
  },
  {
   "cell_type": "code",
   "execution_count": 2,
   "metadata": {},
   "outputs": [],
   "source": [
    "# Import the assignment file\n",
    "\n",
    "text_file = open(\"assignment 2 data.txt\", \"r\")"
   ]
  },
  {
   "cell_type": "code",
   "execution_count": 3,
   "metadata": {},
   "outputs": [],
   "source": [
    "# Read and store file contents\n",
    "\n",
    "data = text_file.read()"
   ]
  },
  {
   "cell_type": "code",
   "execution_count": 4,
   "metadata": {},
   "outputs": [],
   "source": [
    "# Close the file\n",
    "\n",
    "text_file.close()"
   ]
  },
  {
   "cell_type": "code",
   "execution_count": 5,
   "metadata": {},
   "outputs": [],
   "source": [
    "# Preview file contents\n",
    "\n",
    "#print(data)"
   ]
  },
  {
   "cell_type": "code",
   "execution_count": 6,
   "metadata": {},
   "outputs": [],
   "source": [
    "# Create a Textblob instance\n",
    "\n",
    "text_blob = TextBlob(data)"
   ]
  },
  {
   "cell_type": "code",
   "execution_count": 7,
   "metadata": {},
   "outputs": [
    {
     "data": {
      "text/plain": [
       "WordList(['That', \"'s\", 'right', 'the', 'red', 'velvet', 'cake', 'ohhh', 'this', 'stuff', 'is', 'so', 'good', 'They', 'never', 'brought', 'a', 'salad', 'we', 'asked'])"
      ]
     },
     "execution_count": 7,
     "metadata": {},
     "output_type": "execute_result"
    }
   ],
   "source": [
    "# Print the first 20 unique words\n",
    "\n",
    "text_blob.words[0:20]"
   ]
  },
  {
   "cell_type": "code",
   "execution_count": 8,
   "metadata": {},
   "outputs": [
    {
     "data": {
      "text/plain": [
       "[('That', 'DT'),\n",
       " (\"'s\", 'VBZ'),\n",
       " ('right', 'JJ'),\n",
       " ('....', 'IN'),\n",
       " ('the', 'DT'),\n",
       " ('red', 'JJ'),\n",
       " ('velvet', 'NN'),\n",
       " ('cake', 'NN'),\n",
       " ('.....', 'NNP'),\n",
       " ('ohhh', 'VBZ'),\n",
       " ('this', 'DT'),\n",
       " ('stuff', 'NN'),\n",
       " ('is', 'VBZ'),\n",
       " ('so', 'RB'),\n",
       " ('good', 'JJ'),\n",
       " ('They', 'PRP'),\n",
       " ('never', 'RB'),\n",
       " ('brought', 'VBD'),\n",
       " ('a', 'DT'),\n",
       " ('salad', 'NN')]"
      ]
     },
     "execution_count": 8,
     "metadata": {},
     "output_type": "execute_result"
    }
   ],
   "source": [
    "# Print a few tags so see what they look like\n",
    "text_blob.tags[0:20]"
   ]
  },
  {
   "cell_type": "code",
   "execution_count": 9,
   "metadata": {},
   "outputs": [],
   "source": [
    "# Read each line into a sentence\n",
    "\n",
    "sentences = text_blob.sentences"
   ]
  },
  {
   "cell_type": "code",
   "execution_count": 10,
   "metadata": {},
   "outputs": [
    {
     "name": "stdout",
     "output_type": "stream",
     "text": [
      "1:  That's right....the red velvet cake.....ohhh this stuff is so good.\n",
      "2:  Also there are combos like a burger, fries, and beer for 23 which is a decent deal.\n",
      "3:  My first visit to Hiro was a delight!\n",
      "4:  Hard to judge whether these sides were good because we were grossed out by the melted styrofoam and didn't want to eat it for fear of getting sick.\n"
     ]
    }
   ],
   "source": [
    "# Preview a few random sentences\n",
    "\n",
    "print('1: ', sentences[0])\n",
    "print('2: ', sentences[5])\n",
    "print('3: ', sentences[13])\n",
    "print('4: ', sentences[17])"
   ]
  },
  {
   "cell_type": "code",
   "execution_count": 11,
   "metadata": {},
   "outputs": [
    {
     "name": "stdout",
     "output_type": "stream",
     "text": [
      "Sentence:  That's right....the red velvet cake.....ohhh this stuff is so good.\n",
      "Sentiment:  Sentiment(polarity=0.35, subjectivity=0.30000000000000004)\n",
      "\n",
      "Sentence:  They never brought a salad we asked for.\n",
      "Sentiment:  Sentiment(polarity=0.0, subjectivity=0.0)\n",
      "\n",
      "Sentence:  This hole in the wall has great Mexican street tacos, and friendly staff.\n",
      "Sentiment:  Sentiment(polarity=0.39166666666666666, subjectivity=0.4166666666666667)\n",
      "\n",
      "Sentence:  Took an hour to get our food only 4 tables in restaurant my food was Luke warm, Our sever was running around like he was totally overwhelmed.\n",
      "Sentiment:  Sentiment(polarity=0.19999999999999998, subjectivity=0.7833333333333333)\n",
      "\n",
      "Sentence:  The worst was the salmon sashimi.\n",
      "Sentiment:  Sentiment(polarity=-1.0, subjectivity=1.0)\n",
      "\n",
      "Sentence:  Also there are combos like a burger, fries, and beer for 23 which is a decent deal.\n",
      "Sentiment:  Sentiment(polarity=0.16666666666666666, subjectivity=0.6666666666666666)\n",
      "\n",
      "Sentence:  This was like the final blow!\n",
      "Sentiment:  Sentiment(polarity=0.0, subjectivity=1.0)\n",
      "\n",
      "Sentence:  I found this place by accident and I could not be happier.\n",
      "Sentiment:  Sentiment(polarity=0.0, subjectivity=0.0)\n",
      "\n",
      "Sentence:  seems like a good quick place to grab a bite of some familiar pub food, but do yourself a favor and look elsewhere.\n",
      "Sentiment:  Sentiment(polarity=0.4694444444444444, subjectivity=0.5333333333333333)\n",
      "\n",
      "Sentence:  Overall, I like this place a lot.\n",
      "Sentiment:  Sentiment(polarity=0.0, subjectivity=0.0)\n",
      "\n",
      "Sentence:  The only redeeming quality of the restaurant was that it was very inexpensive.\n",
      "Sentiment:  Sentiment(polarity=0.2333333333333333, subjectivity=0.6)\n",
      "\n",
      "Sentence:  Ample portions and good prices.\n",
      "Sentiment:  Sentiment(polarity=0.7, subjectivity=0.6000000000000001)\n",
      "\n",
      "Sentence:  Poor service, the waiter made me feel like I was stupid every time he came to the table.\n",
      "Sentiment:  Sentiment(polarity=-0.6, subjectivity=0.8)\n",
      "\n",
      "Sentence:  My first visit to Hiro was a delight!\n",
      "Sentiment:  Sentiment(polarity=0.3125, subjectivity=0.3333333333333333)\n",
      "\n",
      "Sentence:  Service sucks.\n",
      "Sentiment:  Sentiment(polarity=-0.3, subjectivity=0.3)\n",
      "\n",
      "Sentence:  The shrimp tender and moist.\n",
      "Sentiment:  Sentiment(polarity=0.0, subjectivity=0.0)\n",
      "\n",
      "Sentence:  There is not a deal good enough that would drag me into that establishment again.\n",
      "Sentiment:  Sentiment(polarity=0.19999999999999998, subjectivity=0.3902777777777778)\n",
      "\n",
      "Sentence:  Hard to judge whether these sides were good because we were grossed out by the melted styrofoam and didn't want to eat it for fear of getting sick.\n",
      "Sentiment:  Sentiment(polarity=-0.10198412698412701, subjectivity=0.6662698412698412)\n",
      "\n",
      "Sentence:  On a positive note, our server was very attentive and provided great service.\n",
      "Sentiment:  Sentiment(polarity=0.5157575757575757, subjectivity=0.7651515151515151)\n",
      "\n",
      "Sentence:  Frozen pucks of disgust, with some of the worst people behind the register.\n",
      "Sentiment:  Sentiment(polarity=-0.7, subjectivity=0.85)\n",
      "\n",
      "Sentence:  The only thing I did like was the prime rib and dessert section.\n",
      "Sentiment:  Sentiment(polarity=0.0, subjectivity=1.0)\n",
      "\n",
      "Sentence:  It's too bad the food is so damn generic.\n",
      "Sentiment:  Sentiment(polarity=-0.3499999999999999, subjectivity=0.3333333333333333)\n",
      "\n",
      "Sentence:  The burger is good beef, cooked just right.\n",
      "Sentiment:  Sentiment(polarity=0.4928571428571428, subjectivity=0.5678571428571428)\n",
      "\n",
      "Sentence:  If you want a sandwich just go to any Firehouse!!!!!\n",
      "Sentiment:  Sentiment(polarity=0.0, subjectivity=0.0)\n",
      "\n",
      "Sentence:  My side Greek salad with the Greek dressing was so tasty, and the pita and hummus was very refreshing.\n",
      "Sentiment:  Sentiment(polarity=0.21666666666666667, subjectivity=0.3333333333333333)\n",
      "\n",
      "Sentence:  We ordered the duck rare and it was pink and tender on the inside with a nice char on the outside.\n",
      "Sentiment:  Sentiment(polarity=0.19999999999999998, subjectivity=0.5625)\n",
      "\n",
      "Sentence:  He came running after us when he realized my husband had left his sunglasses on the table.\n",
      "Sentiment:  Sentiment(polarity=0.0, subjectivity=0.0)\n",
      "\n",
      "Sentence:  Their chow mein is so good!\n",
      "Sentiment:  Sentiment(polarity=0.875, subjectivity=0.6000000000000001)\n",
      "\n",
      "Sentence:  They have horrible attitudes towards customers, and talk down to each one when customers don't enjoy their food.\n",
      "Sentiment:  Sentiment(polarity=-0.2518518518518519, subjectivity=0.5962962962962963)\n",
      "\n",
      "Sentence:  The portion was huge!\n",
      "Sentiment:  Sentiment(polarity=0.5000000000000001, subjectivity=0.9)\n",
      "\n",
      "Sentence:  Loved it...friendly servers, great food, wonderful and imaginative menu.\n",
      "Sentiment:  Sentiment(polarity=0.775, subjectivity=0.8125)\n",
      "\n",
      "Sentence:  The Heart Attack Grill in downtown Vegas is an absolutely flat-lined excuse for a restaurant.\n",
      "Sentiment:  Sentiment(polarity=0.07500000000000001, subjectivity=0.47500000000000003)\n",
      "\n",
      "Sentence:  Not much seafood and like 5 strings of pasta at the bottom.\n",
      "Sentiment:  Sentiment(polarity=-0.1, subjectivity=0.2)\n",
      "\n",
      "Sentence:  The salad had just the right amount of sauce to not over power the scallop, which was perfectly cooked.\n",
      "Sentiment:  Sentiment(polarity=0.6428571428571428, subjectivity=0.7678571428571428)\n",
      "\n",
      "Sentence:  The ripped banana was not only ripped, but petrified and tasteless.\n",
      "Sentiment:  Sentiment(polarity=-0.3, subjectivity=0.95)\n",
      "\n",
      "Sentence:  At least think to refill my water before I struggle to wave you over for 10 minutes.\n",
      "Sentiment:  Sentiment(polarity=-0.3, subjectivity=0.4)\n",
      "\n",
      "Sentence:  This place receives stars for their APPETIZERS!!!\n",
      "Sentiment:  Sentiment(polarity=0.0, subjectivity=0.0)\n",
      "\n",
      "Sentence:  The cocktails are all handmade and delicious.\n",
      "Sentiment:  Sentiment(polarity=1.0, subjectivity=1.0)\n",
      "\n",
      "Sentence:  We'd definitely go back here again.\n",
      "Sentiment:  Sentiment(polarity=0.0, subjectivity=0.0)\n",
      "\n",
      "Sentence:  We are so glad we found this place.\n",
      "Sentiment:  Sentiment(polarity=0.5, subjectivity=1.0)\n",
      "\n"
     ]
    }
   ],
   "source": [
    "# Get the sentiment for the sentences\n",
    "for sentence in sentences:\n",
    "    print('Sentence: ', sentence)\n",
    "    print('Sentiment: ', sentence.sentiment)\n",
    "    print()"
   ]
  },
  {
   "cell_type": "code",
   "execution_count": 12,
   "metadata": {},
   "outputs": [],
   "source": [
    "# Spell check capability\n",
    "\n",
    "mispelled_word = Word('Umbrellaa')"
   ]
  },
  {
   "cell_type": "code",
   "execution_count": 13,
   "metadata": {},
   "outputs": [
    {
     "data": {
      "text/plain": [
       "[('Umbrella', 1.0)]"
      ]
     },
     "execution_count": 13,
     "metadata": {},
     "output_type": "execute_result"
    }
   ],
   "source": [
    "mispelled_word.spellcheck()"
   ]
  },
  {
   "cell_type": "code",
   "execution_count": 14,
   "metadata": {},
   "outputs": [
    {
     "data": {
      "text/plain": [
       "Sentence(\"THAT'S RIGHT....THE RED VELVET CAKE.....OHHH THIS STUFF IS SO GOOD.\")"
      ]
     },
     "execution_count": 14,
     "metadata": {},
     "output_type": "execute_result"
    }
   ],
   "source": [
    "# Change sentence to uppercase\n",
    "sentences[0].upper()"
   ]
  },
  {
   "cell_type": "code",
   "execution_count": 15,
   "metadata": {},
   "outputs": [
    {
     "name": "stdout",
     "output_type": "stream",
     "text": [
      "The word \"right\" was found at index 7\n"
     ]
    }
   ],
   "source": [
    "# Find a word in a sentence\n",
    "index = sentences[0].find('right')\n",
    "print('The word \"right\" was found at index', index)"
   ]
  },
  {
   "cell_type": "code",
   "execution_count": 16,
   "metadata": {},
   "outputs": [
    {
     "name": "stdout",
     "output_type": "stream",
     "text": [
      "Sentence:  That's right....the red velvet cake.....ohhh this stuff is so good.\n",
      "Noun phrases:  ['right ....', 'red velvet cake ..... ohhh']\n",
      "\n",
      "Sentence:  They never brought a salad we asked for.\n",
      "Noun phrases:  []\n",
      "\n",
      "Sentence:  This hole in the wall has great Mexican street tacos, and friendly staff.\n",
      "Noun phrases:  ['great mexican street tacos', 'friendly staff']\n",
      "\n",
      "Sentence:  Took an hour to get our food only 4 tables in restaurant my food was Luke warm, Our sever was running around like he was totally overwhelmed.\n",
      "Noun phrases:  ['took', 'luke']\n",
      "\n",
      "Sentence:  The worst was the salmon sashimi.\n",
      "Noun phrases:  ['salmon sashimi']\n",
      "\n",
      "Sentence:  Also there are combos like a burger, fries, and beer for 23 which is a decent deal.\n",
      "Noun phrases:  []\n",
      "\n",
      "Sentence:  This was like the final blow!\n",
      "Noun phrases:  ['final blow']\n",
      "\n",
      "Sentence:  I found this place by accident and I could not be happier.\n",
      "Noun phrases:  []\n",
      "\n",
      "Sentence:  seems like a good quick place to grab a bite of some familiar pub food, but do yourself a favor and look elsewhere.\n",
      "Noun phrases:  ['good quick place', 'familiar pub food']\n",
      "\n",
      "Sentence:  Overall, I like this place a lot.\n",
      "Noun phrases:  ['overall']\n",
      "\n"
     ]
    }
   ],
   "source": [
    "# Noun Phrases\n",
    "for sentence in sentences[0:10]:\n",
    "    print('Sentence: ', sentence)\n",
    "    print('Noun phrases: ', sentence.noun_phrases)\n",
    "    print()    "
   ]
  },
  {
   "cell_type": "code",
   "execution_count": 17,
   "metadata": {},
   "outputs": [],
   "source": [
    "# Words inflection\n",
    "text_blob2 = TextBlob('The big red dog jumped over the green house')"
   ]
  },
  {
   "cell_type": "code",
   "execution_count": 18,
   "metadata": {},
   "outputs": [
    {
     "data": {
      "text/plain": [
       "WordList(['The', 'big', 'red', 'dog', 'jumped', 'over', 'the', 'green', 'house'])"
      ]
     },
     "execution_count": 18,
     "metadata": {},
     "output_type": "execute_result"
    }
   ],
   "source": [
    "# Singularize\n",
    "text_blob2.sentences[0].words.singularize()"
   ]
  },
  {
   "cell_type": "code",
   "execution_count": 19,
   "metadata": {},
   "outputs": [
    {
     "data": {
      "text/plain": [
       "WordList(['Thes', 'bigs', 'reds', 'dogs', 'jumpeds', 'overs', 'thes', 'greens', 'houses'])"
      ]
     },
     "execution_count": 19,
     "metadata": {},
     "output_type": "execute_result"
    }
   ],
   "source": [
    "# Pluralize\n",
    "text_blob2.sentences[0].words.pluralize()"
   ]
  },
  {
   "cell_type": "code",
   "execution_count": 20,
   "metadata": {},
   "outputs": [
    {
     "data": {
      "text/plain": [
       "['a learned person (especially in the humanities); someone who by long study has gained mastery in one or more disciplines',\n",
       " 'someone (especially a child) who learns (as from a teacher) or takes up knowledge or beliefs',\n",
       " 'a student who holds a scholarship']"
      ]
     },
     "execution_count": 20,
     "metadata": {},
     "output_type": "execute_result"
    }
   ],
   "source": [
    "# Definitions\n",
    "Word(\"Scholar\").definitions"
   ]
  }
 ],
 "metadata": {
  "kernelspec": {
   "display_name": "Python 3",
   "language": "python",
   "name": "python3"
  },
  "language_info": {
   "codemirror_mode": {
    "name": "ipython",
    "version": 3
   },
   "file_extension": ".py",
   "mimetype": "text/x-python",
   "name": "python",
   "nbconvert_exporter": "python",
   "pygments_lexer": "ipython3",
   "version": "3.7.9"
  }
 },
 "nbformat": 4,
 "nbformat_minor": 4
}
